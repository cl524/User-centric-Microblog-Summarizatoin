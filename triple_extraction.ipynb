{
 "cells": [
  {
   "cell_type": "code",
   "execution_count": 1,
   "metadata": {},
   "outputs": [],
   "source": [
    "import json, os\n",
    "import tempfile\n",
    "from pathlib import Path\n",
    "from subprocess import Popen\n",
    "from sys import stderr\n",
    "from zipfile import ZipFile\n",
    "\n",
    "import wget\n",
    "import pandas as pd\n",
    "import csv\n",
    "import re\n",
    "\n",
    "from openie import StanfordOpenIE\n",
    "from stanfordcorenlp import StanfordCoreNLP"
   ]
  },
  {
   "cell_type": "code",
   "execution_count": 2,
   "metadata": {},
   "outputs": [],
   "source": [
    "from pycorenlp import StanfordCoreNLP\n",
    "nlp = StanfordCoreNLP('http://localhost:9000')\n",
    "\n",
    "def get_sentiment3(inputtext):\n",
    "    res = nlp.annotate(str(inputtext), properties={'annotators': 'sentiment', 'outputFormat': 'json', 'timeout': 10000})\n",
    "    for s in res[\"sentences\"]:\n",
    "        return(s[\"sentimentValue\"])"
   ]
  },
  {
   "cell_type": "code",
   "execution_count": 3,
   "metadata": {},
   "outputs": [],
   "source": [
    "############################################"
   ]
  },
  {
   "cell_type": "code",
   "execution_count": 4,
   "metadata": {},
   "outputs": [
    {
     "name": "stdout",
     "output_type": "stream",
     "text": [
      "28242\n"
     ]
    }
   ],
   "source": [
    "data_file='vaccine_segSent.csv'\n",
    "    \n",
    "df=pd.read_csv(data_file, header=0, encoding=\"utf-8\", engine='python')\n",
    "\n",
    "df_texts=df['seg_text'].tolist()\n",
    "texts=df['seg_text'].tolist()\n",
    "\n",
    "post_id=df['postInd'].tolist()\n",
    "senten_id=df['sentenceInd'].tolist()\n",
    "\n",
    "print(len(texts))"
   ]
  },
  {
   "cell_type": "code",
   "execution_count": 5,
   "metadata": {},
   "outputs": [],
   "source": [
    "import string, re\n",
    "def preprocessing(line):\n",
    "    #line = line.lower()\n",
    "    line = re.sub(r\"[{}]\".format(string.punctuation), \"\", line)\n",
    "    return line"
   ]
  },
  {
   "cell_type": "code",
   "execution_count": 6,
   "metadata": {},
   "outputs": [],
   "source": [
    "############################################################################################"
   ]
  },
  {
   "cell_type": "code",
   "execution_count": 7,
   "metadata": {},
   "outputs": [
    {
     "name": "stdout",
     "output_type": "stream",
     "text": [
      "Starting server with command: java -Xmx8G -cp C:\\Users\\cl524\\.stanfordnlp_resources\\stanford-corenlp-full-2018-10-05/* edu.stanford.nlp.pipeline.StanfordCoreNLPServer -port 9000 -timeout 60000 -threads 5 -maxCharLength 100000 -quiet True -serverProperties corenlp_server-eeaf4a2e002248a3.props -preload openie\n",
      "number of triples: 101439\n"
     ]
    }
   ],
   "source": [
    "postInd=[]\n",
    "sentenceInd=[]\n",
    "tripleInd=[]\n",
    "\n",
    "sentiments=[]\n",
    "subjlist=[]\n",
    "verblist=[]\n",
    "objelist=[]\n",
    "\n",
    "triple_string=[]\n",
    "\n",
    "with StanfordOpenIE() as client:\n",
    "    triples=[]\n",
    "    tripleCount=0\n",
    "    \n",
    "    i=0\n",
    "    for p, sid, st in zip(post_id, senten_id, texts):\n",
    "        st=str(st)\n",
    "        st=re.sub(\"[\\(\\[].*?[\\)\\]]\", \"\", st)\n",
    "        st=re.sub(\" +\", \" \", st)\n",
    "        st=st.strip()\n",
    "        \n",
    "        #if len(st.split(\" \"))<3:\n",
    "            #continue\n",
    "##############################################################################################\n",
    "        s1=\"\"\n",
    "        j=0\n",
    "        for triple in client.annotate(str(st)):\n",
    "            #if j>10:\n",
    "                #break\n",
    "\n",
    "            s1=s1+str(triple)\n",
    "            tripleCount+=1\n",
    "            \n",
    "            postInd.append(p)\n",
    "            sentenceInd.append(sid)\n",
    "            tripleInd.append(j)\n",
    "            \n",
    "            j+=1\n",
    "##############################################################################################\n",
    "        s1=s1.lower()\n",
    "        if len(s1)>0:\n",
    "            s1=s1.strip()\n",
    "            s1=s1[1:-1]\n",
    "            \n",
    "            s1=re.sub(\"president real donald trump\", \"trump\", s1)\n",
    "            s1=re.sub(\"president donald trump\", \"trump\", s1)\n",
    "            s1=re.sub(\"president trump\", \"trump\", s1)\n",
    "            s1=re.sub(\"real donald trump\", \"trump\", s1)\n",
    "            s1=re.sub(\"donald trump\", \"trump\", s1)\n",
    "            s1=re.sub(\"real trump\", \"trump\", s1)\n",
    "            s1=re.sub(\"real donald\", \"trump\", s1)\n",
    "            \n",
    "            tlist=s1.split(\"}{\")\n",
    "            ############################################################################\n",
    "            for s2 in tlist:\n",
    "                testt=str(s2).split(\", \")\n",
    "\n",
    "                triple_str=[]\n",
    "                for x in testt:\n",
    "                    x=re.sub(\"at_time\", \"\", x)\n",
    "                    \n",
    "                    #x=preprocessing(x)\n",
    "                    \n",
    "                    x=re.sub(\" +\", \" \", x)\n",
    "                    x=x.strip()\n",
    "                    triple_str.append(x)\n",
    "\n",
    "                #subject\n",
    "                subj=triple_str[0][12:-1]\n",
    "                subj=subj.strip()\n",
    "                subjlist.append(subj)\n",
    "\n",
    "                #verb\n",
    "                verb=triple_str[1][13:-1]\n",
    "                verb=re.sub(\" +\", \" \", verb)\n",
    "                verb=verb.strip()\n",
    "                verblist.append(verb)\n",
    "\n",
    "                verblast=verb.split(\" \")[-1]\n",
    "\n",
    "                #object\n",
    "                obje=triple_str[2][11:-1]\n",
    "\n",
    "                objefirst=obje.split(\" \")[0]\n",
    "\n",
    "                if verblast==objefirst:\n",
    "                    obje=obje[len(objefirst)+1:]\n",
    "\n",
    "                obje=re.sub(\" +\", \" \", obje)\n",
    "                obje=obje.strip()\n",
    "                objelist.append(obje)\n",
    "                \n",
    "                sss=str(subj+\" \"+verb+\" \"+obje)\n",
    "                triple_string.append(sss)\n",
    "#################################################################################################\n",
    "        if len(s1)>0:\n",
    "            i+=1\n",
    "        triples.append(s1)\n",
    "\n",
    "print(\"number of triples:\", tripleCount)"
   ]
  },
  {
   "cell_type": "code",
   "execution_count": 8,
   "metadata": {},
   "outputs": [
    {
     "data": {
      "text/plain": [
       "True"
      ]
     },
     "execution_count": 8,
     "metadata": {},
     "output_type": "execute_result"
    }
   ],
   "source": [
    "len(subjlist)==len(verblist)==len(objelist)"
   ]
  },
  {
   "cell_type": "code",
   "execution_count": 9,
   "metadata": {},
   "outputs": [
    {
     "name": "stdout",
     "output_type": "stream",
     "text": [
      "101439\n"
     ]
    }
   ],
   "source": [
    "print(len(subjlist))"
   ]
  },
  {
   "cell_type": "code",
   "execution_count": 10,
   "metadata": {},
   "outputs": [],
   "source": [
    "############################################################################"
   ]
  },
  {
   "cell_type": "code",
   "execution_count": 11,
   "metadata": {},
   "outputs": [],
   "source": [
    "tripleoutputs = list(zip(postInd, sentenceInd, tripleInd, subjlist, verblist, objelist))\n",
    "\n",
    "from pandas import DataFrame\n",
    "\n",
    "df_tripleoutputs = DataFrame(tripleoutputs, columns=['postInd', 'sentenceInd', 'tripleInd', 'subject', 'relation', 'object'])\n",
    "\n",
    "#df_tripleoutputs.to_csv (\"vaccine_segSent_triples.csv\", index = None, header=True)"
   ]
  },
  {
   "cell_type": "code",
   "execution_count": 12,
   "metadata": {},
   "outputs": [
    {
     "data": {
      "text/plain": [
       "'\\nfrom pandas import DataFrame\\n\\nc={\\'text\\': pd.Series(texts), \\'triples\\': pd.Series(triples)}\\ndf_results = pd.DataFrame(c)\\ndf_results.to_csv (\"vaccine_segSent_triples_2.csv\", index = None, header=True)\\n'"
      ]
     },
     "execution_count": 12,
     "metadata": {},
     "output_type": "execute_result"
    }
   ],
   "source": [
    "'''\n",
    "from pandas import DataFrame\n",
    "\n",
    "c={'text': pd.Series(texts), 'triples': pd.Series(triples)}\n",
    "df_results = pd.DataFrame(c)\n",
    "df_results.to_csv (\"vaccine_segSent_triples_2.csv\", index = None, header=True)\n",
    "'''"
   ]
  },
  {
   "cell_type": "code",
   "execution_count": 13,
   "metadata": {},
   "outputs": [],
   "source": [
    "####################################################################################################################\n",
    "####################################################################################################################\n",
    "####################################################################################################################\n",
    "####################################################################################################################\n",
    "####################################################################################################################"
   ]
  },
  {
   "cell_type": "code",
   "execution_count": 14,
   "metadata": {},
   "outputs": [],
   "source": [
    "df=df_tripleoutputs"
   ]
  },
  {
   "cell_type": "code",
   "execution_count": 15,
   "metadata": {},
   "outputs": [],
   "source": [
    "#data_file='vaccine_segSent_triples.csv'\n",
    "    \n",
    "#df=pd.read_csv(data_file, header=0, encoding=\"utf-8\", engine='python')"
   ]
  },
  {
   "cell_type": "code",
   "execution_count": 16,
   "metadata": {},
   "outputs": [],
   "source": [
    "df[\"triple_string\"] = df[\"subject\"]+\" \" +df[\"relation\"]+\" \"+df['object']"
   ]
  },
  {
   "cell_type": "code",
   "execution_count": 17,
   "metadata": {},
   "outputs": [],
   "source": [
    "df['sentiment']=df[\"triple_string\"].apply(get_sentiment3)"
   ]
  },
  {
   "cell_type": "code",
   "execution_count": 18,
   "metadata": {},
   "outputs": [],
   "source": [
    "df.to_csv (\"vaccine_segSent_triples_senti.csv\", index = None, header=True)"
   ]
  },
  {
   "cell_type": "code",
   "execution_count": null,
   "metadata": {},
   "outputs": [],
   "source": []
  }
 ],
 "metadata": {
  "kernelspec": {
   "display_name": "Python 3 (ipykernel)",
   "language": "python",
   "name": "python3"
  },
  "language_info": {
   "codemirror_mode": {
    "name": "ipython",
    "version": 3
   },
   "file_extension": ".py",
   "mimetype": "text/x-python",
   "name": "python",
   "nbconvert_exporter": "python",
   "pygments_lexer": "ipython3",
   "version": "3.8.10"
  }
 },
 "nbformat": 4,
 "nbformat_minor": 2
}
